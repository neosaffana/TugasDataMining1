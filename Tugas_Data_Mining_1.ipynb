{
  "nbformat": 4,
  "nbformat_minor": 0,
  "metadata": {
    "colab": {
      "provenance": [],
      "authorship_tag": "ABX9TyOtkYyktyt3XgZCcwVwAGo1",
      "include_colab_link": true
    },
    "kernelspec": {
      "name": "python3",
      "display_name": "Python 3"
    },
    "language_info": {
      "name": "python"
    }
  },
  "cells": [
    {
      "cell_type": "markdown",
      "metadata": {
        "id": "view-in-github",
        "colab_type": "text"
      },
      "source": [
        "<a href=\"https://colab.research.google.com/github/neosaffana/TugasDataMining1/blob/main/Tugas_Data_Mining_1.ipynb\" target=\"_parent\"><img src=\"https://colab.research.google.com/assets/colab-badge.svg\" alt=\"Open In Colab\"/></a>"
      ]
    },
    {
      "cell_type": "markdown",
      "source": [
        "**Tugas Data Mining : Preporcessing Data**"
      ],
      "metadata": {
        "id": "lsohZiwJ5GAH"
      }
    },
    {
      "cell_type": "markdown",
      "source": [
        "**Neo Saffana Farhalik (4112322008)**"
      ],
      "metadata": {
        "id": "UPtiWM7W6o6z"
      }
    },
    {
      "cell_type": "code",
      "execution_count": 1,
      "metadata": {
        "colab": {
          "base_uri": "https://localhost:8080/"
        },
        "id": "Vt0t2zIH4ZfK",
        "outputId": "08ed8184-f063-41ee-9120-4a7ead76cc57"
      },
      "outputs": [
        {
          "output_type": "stream",
          "name": "stdout",
          "text": [
            "<class 'pandas.core.frame.DataFrame'>\n",
            "RangeIndex: 99 entries, 0 to 98\n",
            "Data columns (total 13 columns):\n",
            " #   Column                Non-Null Count  Dtype  \n",
            "---  ------                --------------  -----  \n",
            " 0   color                 88 non-null     object \n",
            " 1   director_name         88 non-null     object \n",
            " 2   duration              99 non-null     int64  \n",
            " 3   gross                 91 non-null     float64\n",
            " 4   genres                98 non-null     object \n",
            " 5   movie_title           99 non-null     object \n",
            " 6   title_year            99 non-null     int64  \n",
            " 7   language              99 non-null     object \n",
            " 8   country               99 non-null     object \n",
            " 9   budget                95 non-null     float64\n",
            " 10  imdb_score            99 non-null     float64\n",
            " 11  actors                99 non-null     object \n",
            " 12  movie_facebook_likes  99 non-null     int64  \n",
            "dtypes: float64(3), int64(3), object(7)\n",
            "memory usage: 10.2+ KB\n"
          ]
        },
        {
          "output_type": "execute_result",
          "data": {
            "text/plain": [
              "(    color      director_name  duration        gross  \\\n",
              " 0   Color    Martin Scorsese       240  116866727.0   \n",
              " 1   Color        Shane Black       195  408992272.0   \n",
              " 2  color   Quentin Tarantino       187   54116191.0   \n",
              " 3   Color   Kenneth Lonergan       186      46495.0   \n",
              " 4   Color      Peter Jackson       186  258355354.0   \n",
              " \n",
              "                                  genres                          movie_title  \\\n",
              " 0          Biography|Comedy|Crime|Drama              The Wolf of Wall Street   \n",
              " 1               Action|Adventure|Sci-Fi                           Iron Man 3   \n",
              " 2  Crime|Drama|Mystery|Thriller|Western                    The Hateful Eight   \n",
              " 3                                 Drama                             Margaret   \n",
              " 4                     Adventure|Fantasy  The Hobbit: The Desolation of Smaug   \n",
              " \n",
              "    title_year language country       budget  imdb_score  \\\n",
              " 0        2013  English     USA  100000000.0         8.2   \n",
              " 1        2013  English     USA  200000000.0         7.2   \n",
              " 2        2015  English     USA   44000000.0         7.9   \n",
              " 3        2011  English     usa   14000000.0         6.5   \n",
              " 4        2013  English     USA  225000000.0         7.9   \n",
              " \n",
              "                                               actors  movie_facebook_likes  \n",
              " 0  Leonardo DiCaprio,Matthew McConaughey,Jon Favreau                138000  \n",
              " 1          Robert Downey Jr.,Jon Favreau,Don Cheadle                 95000  \n",
              " 2          Craig Stark,Jennifer Jason Leigh,Zoë Bell                114000  \n",
              " 3        Matt Damon,Kieran Culkin,John Gallagher Jr.                     0  \n",
              " 4              Aidan Turner,Adam Brown,James Nesbitt                 83000  ,\n",
              " None)"
            ]
          },
          "metadata": {},
          "execution_count": 1
        }
      ],
      "source": [
        "import numpy as np\n",
        "import pandas as pd\n",
        "\n",
        "data = pd.read_csv('movie_sample_dataset.csv')\n",
        "\n",
        "data.head(), data.info()"
      ]
    },
    {
      "cell_type": "code",
      "source": [
        "data['color'] = data['color'].str.capitalize()\n",
        "data['country'] = data['country'].str.upper()\n",
        "\n",
        "missing_values = data.isnull().sum()\n",
        "\n",
        "duplicates = data.duplicated().sum()\n",
        "\n",
        "missing_values, duplicates\n"
      ],
      "metadata": {
        "colab": {
          "base_uri": "https://localhost:8080/"
        },
        "id": "z5mJukI1971t",
        "outputId": "b1f0d2a6-f4b0-4dbb-a277-276d0dd09e07"
      },
      "execution_count": 2,
      "outputs": [
        {
          "output_type": "execute_result",
          "data": {
            "text/plain": [
              "(color                   11\n",
              " director_name           11\n",
              " duration                 0\n",
              " gross                    8\n",
              " genres                   1\n",
              " movie_title              0\n",
              " title_year               0\n",
              " language                 0\n",
              " country                  0\n",
              " budget                   4\n",
              " imdb_score               0\n",
              " actors                   0\n",
              " movie_facebook_likes     0\n",
              " dtype: int64,\n",
              " 6)"
            ]
          },
          "metadata": {},
          "execution_count": 2
        }
      ]
    },
    {
      "cell_type": "code",
      "source": [
        "data_cleaned = data.drop_duplicates()\n",
        "\n",
        "data_cleaned.shape\n"
      ],
      "metadata": {
        "colab": {
          "base_uri": "https://localhost:8080/"
        },
        "id": "2R_tYzNx-PHS",
        "outputId": "3dea7e1a-b455-4444-d579-a45db72c659f"
      },
      "execution_count": 3,
      "outputs": [
        {
          "output_type": "execute_result",
          "data": {
            "text/plain": [
              "(93, 13)"
            ]
          },
          "metadata": {},
          "execution_count": 3
        }
      ]
    },
    {
      "cell_type": "code",
      "source": [
        "data_cleaned['color'].fillna(data_cleaned['color'].mode()[0], inplace=True)\n",
        "data_cleaned['director_name'].fillna(data_cleaned['director_name'].mode()[0], inplace=True)\n",
        "data_cleaned['genres'].fillna(data_cleaned['genres'].mode()[0], inplace=True)\n",
        "\n",
        "data_cleaned['gross'].fillna(data_cleaned['gross'].median(), inplace=True)\n",
        "data_cleaned['budget'].fillna(data_cleaned['budget'].median(), inplace=True)\n",
        "\n",
        "data_cleaned.isnull().sum()\n"
      ],
      "metadata": {
        "colab": {
          "base_uri": "https://localhost:8080/",
          "height": 926
        },
        "id": "wU0buJml-qqm",
        "outputId": "25eab99f-2b44-4f95-edf0-2d8afcd52ee3"
      },
      "execution_count": 4,
      "outputs": [
        {
          "output_type": "stream",
          "name": "stderr",
          "text": [
            "<ipython-input-4-14768f0a2c1b>:1: SettingWithCopyWarning: \n",
            "A value is trying to be set on a copy of a slice from a DataFrame\n",
            "\n",
            "See the caveats in the documentation: https://pandas.pydata.org/pandas-docs/stable/user_guide/indexing.html#returning-a-view-versus-a-copy\n",
            "  data_cleaned['color'].fillna(data_cleaned['color'].mode()[0], inplace=True)\n",
            "<ipython-input-4-14768f0a2c1b>:2: SettingWithCopyWarning: \n",
            "A value is trying to be set on a copy of a slice from a DataFrame\n",
            "\n",
            "See the caveats in the documentation: https://pandas.pydata.org/pandas-docs/stable/user_guide/indexing.html#returning-a-view-versus-a-copy\n",
            "  data_cleaned['director_name'].fillna(data_cleaned['director_name'].mode()[0], inplace=True)\n",
            "<ipython-input-4-14768f0a2c1b>:3: SettingWithCopyWarning: \n",
            "A value is trying to be set on a copy of a slice from a DataFrame\n",
            "\n",
            "See the caveats in the documentation: https://pandas.pydata.org/pandas-docs/stable/user_guide/indexing.html#returning-a-view-versus-a-copy\n",
            "  data_cleaned['genres'].fillna(data_cleaned['genres'].mode()[0], inplace=True)\n",
            "<ipython-input-4-14768f0a2c1b>:5: SettingWithCopyWarning: \n",
            "A value is trying to be set on a copy of a slice from a DataFrame\n",
            "\n",
            "See the caveats in the documentation: https://pandas.pydata.org/pandas-docs/stable/user_guide/indexing.html#returning-a-view-versus-a-copy\n",
            "  data_cleaned['gross'].fillna(data_cleaned['gross'].median(), inplace=True)\n",
            "<ipython-input-4-14768f0a2c1b>:6: SettingWithCopyWarning: \n",
            "A value is trying to be set on a copy of a slice from a DataFrame\n",
            "\n",
            "See the caveats in the documentation: https://pandas.pydata.org/pandas-docs/stable/user_guide/indexing.html#returning-a-view-versus-a-copy\n",
            "  data_cleaned['budget'].fillna(data_cleaned['budget'].median(), inplace=True)\n"
          ]
        },
        {
          "output_type": "execute_result",
          "data": {
            "text/plain": [
              "color                   0\n",
              "director_name           0\n",
              "duration                0\n",
              "gross                   0\n",
              "genres                  0\n",
              "movie_title             0\n",
              "title_year              0\n",
              "language                0\n",
              "country                 0\n",
              "budget                  0\n",
              "imdb_score              0\n",
              "actors                  0\n",
              "movie_facebook_likes    0\n",
              "dtype: int64"
            ],
            "text/html": [
              "<div>\n",
              "<style scoped>\n",
              "    .dataframe tbody tr th:only-of-type {\n",
              "        vertical-align: middle;\n",
              "    }\n",
              "\n",
              "    .dataframe tbody tr th {\n",
              "        vertical-align: top;\n",
              "    }\n",
              "\n",
              "    .dataframe thead th {\n",
              "        text-align: right;\n",
              "    }\n",
              "</style>\n",
              "<table border=\"1\" class=\"dataframe\">\n",
              "  <thead>\n",
              "    <tr style=\"text-align: right;\">\n",
              "      <th></th>\n",
              "      <th>0</th>\n",
              "    </tr>\n",
              "  </thead>\n",
              "  <tbody>\n",
              "    <tr>\n",
              "      <th>color</th>\n",
              "      <td>0</td>\n",
              "    </tr>\n",
              "    <tr>\n",
              "      <th>director_name</th>\n",
              "      <td>0</td>\n",
              "    </tr>\n",
              "    <tr>\n",
              "      <th>duration</th>\n",
              "      <td>0</td>\n",
              "    </tr>\n",
              "    <tr>\n",
              "      <th>gross</th>\n",
              "      <td>0</td>\n",
              "    </tr>\n",
              "    <tr>\n",
              "      <th>genres</th>\n",
              "      <td>0</td>\n",
              "    </tr>\n",
              "    <tr>\n",
              "      <th>movie_title</th>\n",
              "      <td>0</td>\n",
              "    </tr>\n",
              "    <tr>\n",
              "      <th>title_year</th>\n",
              "      <td>0</td>\n",
              "    </tr>\n",
              "    <tr>\n",
              "      <th>language</th>\n",
              "      <td>0</td>\n",
              "    </tr>\n",
              "    <tr>\n",
              "      <th>country</th>\n",
              "      <td>0</td>\n",
              "    </tr>\n",
              "    <tr>\n",
              "      <th>budget</th>\n",
              "      <td>0</td>\n",
              "    </tr>\n",
              "    <tr>\n",
              "      <th>imdb_score</th>\n",
              "      <td>0</td>\n",
              "    </tr>\n",
              "    <tr>\n",
              "      <th>actors</th>\n",
              "      <td>0</td>\n",
              "    </tr>\n",
              "    <tr>\n",
              "      <th>movie_facebook_likes</th>\n",
              "      <td>0</td>\n",
              "    </tr>\n",
              "  </tbody>\n",
              "</table>\n",
              "</div><br><label><b>dtype:</b> int64</label>"
            ]
          },
          "metadata": {},
          "execution_count": 4
        }
      ]
    },
    {
      "cell_type": "code",
      "source": [
        "data.to_csv('movie_dataset_cleaned.csv', index=False)"
      ],
      "metadata": {
        "id": "zdYkggm0_dEE"
      },
      "execution_count": 5,
      "outputs": []
    },
    {
      "cell_type": "code",
      "source": [
        "missing_percentage = (data.isnull().sum() / len(data)) * 100\n",
        "\n",
        "print(missing_percentage)"
      ],
      "metadata": {
        "id": "wwBYC7cVIWXo",
        "outputId": "77f8cd37-6ffd-45ce-874b-4359d36c5734",
        "colab": {
          "base_uri": "https://localhost:8080/"
        }
      },
      "execution_count": 6,
      "outputs": [
        {
          "output_type": "stream",
          "name": "stdout",
          "text": [
            "color                   11.111111\n",
            "director_name           11.111111\n",
            "duration                 0.000000\n",
            "gross                    8.080808\n",
            "genres                   1.010101\n",
            "movie_title              0.000000\n",
            "title_year               0.000000\n",
            "language                 0.000000\n",
            "country                  0.000000\n",
            "budget                   4.040404\n",
            "imdb_score               0.000000\n",
            "actors                   0.000000\n",
            "movie_facebook_likes     0.000000\n",
            "dtype: float64\n"
          ]
        }
      ]
    }
  ]
}